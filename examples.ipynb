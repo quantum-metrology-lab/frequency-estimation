{
 "cells": [
  {
   "cell_type": "code",
   "execution_count": null,
   "metadata": {},
   "outputs": [],
   "source": [
    "from src import *  \n",
    "from src.extra import ExEstimates  \n",
    "\n",
    "from src.parallelize import parallelize  # Simple multiprocessing implementation using dask"
   ]
  },
  {
   "cell_type": "markdown",
   "metadata": {},
   "source": [
    "# Basic"
   ]
  },
  {
   "cell_type": "code",
   "execution_count": null,
   "metadata": {},
   "outputs": [],
   "source": [
    "# Use LoadEstimates to load a saved Estimates instance from a file\n",
    "# The loaded Estimates instance contains various data stored as attributes\n",
    "# When printed, it shows the stored data\n",
    "c = LoadEstimates('data/ideal/di_3px_f0.14_d0.npz')\n",
    "\n",
    "\n",
    "# The data in this repository is already processed\n",
    "# You can use the est() method to perform estimation, the method is defined in src/estimator.py\n",
    "c.est() # Perform estimation using the loaded data\n",
    "\n",
    "plt.plot(c.time_domain[0])\n",
    "plt.xlabel(r'$n$')\n",
    "plt.ylabel(r'$\\hat s$')\n",
    "plt.show()\n",
    "\n",
    "plt.scatter(np.arange(200), c.estimates)\n",
    "plt.xlabel(r'Group')\n",
    "plt.ylabel(r'$\\hat f$')\n",
    "plt.axhline(0.14, color='tab:red')\n",
    "plt.show()"
   ]
  },
  {
   "cell_type": "markdown",
   "metadata": {},
   "source": [
    "# Simulator"
   ]
  },
  {
   "cell_type": "code",
   "execution_count": null,
   "metadata": {},
   "outputs": [],
   "source": [
    "# Create simulator object\n",
    "# DMD.A(x) = x * DMD.PIXEL_SIZE / 2, for quick amplitude calculation\n",
    "# This Simulator represents a DI simulation with frequency 0.34 and amplitude 5/2 DMD Pixels\n",
    "# Use measurement = 'hg' or 'hg_spade' for HG-SPADE\n",
    "sim = Simulator(\n",
    "    measurement = 'DI',\n",
    "    amplitude = DMD.A(5),\n",
    "    ground_truth = 0.34,\n",
    "    waveform = 'sign'\n",
    "    )\n",
    "\n",
    "\n",
    "# gen() returns a standard Estimates instance\n",
    "# gen() accepts different signal and noise photon counts, default DI 400, SPADE 60\n",
    "c = sim.gen()\n",
    "\n",
    "\n",
    "# Estimate the generated data (non-extended Estimates uses single-parameter LSE, same as before)\n",
    "c = c.est()\n",
    "x = np.arange(200)\n",
    "plt.plot(x, c.estimates, 'v', label='Single-Params; LSE')\n",
    "\n",
    "\n",
    "# The non-extended Estimates (using single-parameter LSE) is the method actually used in the paper\n",
    "# ExEstimates extends this functionality but isn't used in the current setup\n",
    "c = ExEstimates(c)\n",
    "\n",
    "\n",
    "# Perform LSE estimation (multi-parameter)\n",
    "c = c.lse()\n",
    "plt.plot(x, c.extra_estimates_f, '^', label='Multi-Params; LSE')\n",
    "\n",
    "\n",
    "# Perform MLE estimation (multi-parameter, Kay1993, slight difference from multi-parameter LSE due to approximation)\n",
    "c = c.mle()\n",
    "\n",
    "\n",
    "plt.plot(x, c.extra_estimates_f, 'o', label='Multi-Params; MLE')\n",
    "plt.xlabel('Group')\n",
    "plt.ylabel(r'$\\hat f$')\n",
    "plt.legend()\n",
    "plt.show()"
   ]
  },
  {
   "cell_type": "code",
   "execution_count": null,
   "metadata": {},
   "outputs": [],
   "source": [
    "# MLE amplitude matches the theoretical value\n",
    "c.extra_estimates_a.mean(), (4/pi) * DMD.A(5)"
   ]
  },
  {
   "cell_type": "code",
   "execution_count": null,
   "metadata": {},
   "outputs": [],
   "source": [
    "# Experimental frequency range from 0.1 to 0.4\n",
    "freq_list = np.linspace(0.1, 0.4, 61)\n",
    "\n",
    "# The two parameters in this tuple will generate random numbers through np.random.normal(*delay_params)\n",
    "# delay_params is used to simulate delays, with the first value being the mean and the second the standard deviation\n",
    "# An additional 1e-6 is added for DMD and other instrument delays\n",
    "delay_params = (2.8e-3 + 1e-6, 0.48e-3)"
   ]
  },
  {
   "cell_type": "code",
   "execution_count": null,
   "metadata": {},
   "outputs": [],
   "source": [
    "# Since the simulation algorithm is not vectorized, it is not efficient, so multiprocessing is used to speed it up\n",
    "@parallelize() # This decorator converts the first parameter of the original function to accept computation graph input\n",
    "def run(f, m):\n",
    "    c = Simulator(m, DMD.A(3), np.round(f, 5), 'sign', delay_params).gen()\n",
    "    c = c.est()\n",
    "    c.savez('TEMP/') # TEMP folder is not synced with git, savez() only needs a storage path, program will auto-name it.\n",
    "    return c\n",
    "\n",
    "_ = run(freq_list, 'DI'), run(freq_list, 'SPADE')"
   ]
  },
  {
   "cell_type": "code",
   "execution_count": null,
   "metadata": {},
   "outputs": [],
   "source": [
    "for m in ('SPADE', 'DI'):\n",
    "    f_var = []\n",
    "    for i, f in enumerate(freq_list):\n",
    "        meta = MetaData(m, np.round(f, 5), DMD.A(3))\n",
    "        c = LoadEstimates(f'TEMP/{meta.convert2str()}.npz')\n",
    "        f_var.append(c.estimates.var(ddof=1) * c.photons)\n",
    "    plt.plot(freq_list, f_var, 'o' if m == 'SPADE' else '^', label=m)\n",
    "\n",
    "# FI calculation for SPADE and DI classes\n",
    "# Since CFI is the same in the absence of noise, either method can be used\n",
    "fi = DI.ApproxCFI((4/pi) * DMD.A(3))\n",
    "plt.axhline(1/fi, color='tab:red', zorder=1, label='QCRB')  # Plot QCRB\n",
    "\n",
    "plt.legend()\n",
    "plt.xlim(0.1, 0.4)\n",
    "plt.xlabel(r'$f$')\n",
    "plt.ylabel(r'$\\nu\\operatorname{Var}(\\hat f)$')\n",
    "plt.show()\n"
   ]
  },
  {
   "cell_type": "code",
   "execution_count": null,
   "metadata": {},
   "outputs": [],
   "source": []
  },
  {
   "cell_type": "code",
   "execution_count": null,
   "metadata": {},
   "outputs": [],
   "source": []
  }
 ],
 "metadata": {
  "kernelspec": {
   "display_name": "base",
   "language": "python",
   "name": "python3"
  },
  "language_info": {
   "codemirror_mode": {
    "name": "ipython",
    "version": 3
   },
   "file_extension": ".py",
   "mimetype": "text/x-python",
   "name": "python",
   "nbconvert_exporter": "python",
   "pygments_lexer": "ipython3",
   "version": "3.11.10"
  }
 },
 "nbformat": 4,
 "nbformat_minor": 2
}
