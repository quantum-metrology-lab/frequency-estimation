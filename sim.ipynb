{
 "cells": [
  {
   "cell_type": "code",
   "execution_count": null,
   "metadata": {},
   "outputs": [],
   "source": [
    "from src import *\n",
    "from src.extra import ExEstimates\n",
    "\n",
    "from src.parallelize import parallelize"
   ]
  },
  {
   "cell_type": "code",
   "execution_count": null,
   "metadata": {},
   "outputs": [],
   "source": [
    "freq_list = np.linspace(0.1, 0.4, 61)\n",
    "delay_params = (2.8e-3 + 1e-6, 0.48e-3)"
   ]
  },
  {
   "cell_type": "code",
   "execution_count": null,
   "metadata": {},
   "outputs": [],
   "source": [
    "def ApproxCFIM(A, N=50, sigma=103):\n",
    "    n = np.arange(N)\n",
    "    mat_1 = [[N, 0,            0],\n",
    "             [0, np.sum(n**2), np.sum(n)],\n",
    "             [0, np.sum(n),    N]]\n",
    "    \n",
    "    mat_2 = [[1/2, 0,            0],\n",
    "             [0,   2*A**2*pi**2, pi*A**2],\n",
    "             [0,   pi*A**2,      A**2/2]]\n",
    "\n",
    "    return (1/sigma**2) * np.array(mat_1) * np.array(mat_2)\n",
    "\n",
    "\n",
    "def ApproxCRB(A, N=50, sigma=103):\n",
    "    return np.linalg.inv(ApproxCFIM(A, N, sigma))"
   ]
  },
  {
   "cell_type": "code",
   "execution_count": null,
   "metadata": {},
   "outputs": [],
   "source": [
    "@parallelize()\n",
    "def run(f, m):\n",
    "    meta = MetaData(m, np.round(f, 5), DMD.A(3))\n",
    "    c = Simulator(meta, 'sign', delay_params).gen()\n",
    "    # c.savez('TEMP/')\n",
    "    c = c.est()\n",
    "    c = ExEstimates(c).mle()\n",
    "    return c\n",
    "\n",
    "cs1, cs2 = run(freq_list, 'DI'), run(freq_list, 'SPADE')"
   ]
  },
  {
   "cell_type": "code",
   "execution_count": null,
   "metadata": {},
   "outputs": [],
   "source": [
    "fig, ax = plt.subplots(2, 2, figsize=(2 * 8.5 / 2.54, 2 * 0.618 * 8.5 / 2.54), sharey='row', sharex=True)\n",
    "\n",
    "for m in ('SPADE', 'DI'):\n",
    "    f_var = []\n",
    "    cs = cs1 if m == 'DI' else cs2\n",
    "    for i, f in enumerate(freq_list):\n",
    "        f_var.append(cs[i].extra_estimates_f.var(ddof=1) * cs[i].photons)\n",
    "\n",
    "    crb = ApproxCRB((4/pi) * DMD.A(3))[1, 1]\n",
    "    ax[0, 0].plot(freq_list, np.array(f_var), 'o' if m == 'SPADE' else '^', label=m)\n",
    "    ax[1, 0].plot(freq_list, np.array(f_var) / crb, 'o' if m == 'SPADE' else '^', label=m)\n",
    "\n",
    "ax[0, 0].axhline(crb, color='tab:red', zorder=1, label='QCRB')\n",
    "\n",
    "\n",
    "for m in ('SPADE', 'DI'):\n",
    "    f_var = []\n",
    "    cs = cs1 if m == 'DI' else cs2\n",
    "    for i, f in enumerate(freq_list):\n",
    "        f_var.append(cs[i].estimates.var(ddof=1) * cs[i].photons)\n",
    "\n",
    "    crb = 1 / DI.ApproxCFI((4/pi) * DMD.A(3))\n",
    "    ax[0, 1].plot(freq_list, np.array(f_var), 'o' if m == 'SPADE' else '^', label=m)\n",
    "    ax[1, 1].plot(freq_list, np.array(f_var) / crb, 'o' if m == 'SPADE' else '^', label=m)\n",
    "\n",
    "ax[0, 1].axhline(crb, color='tab:red', zorder=1, label='QCRB')\n",
    "\n",
    "\n",
    "\n",
    "for i in (0, 1):\n",
    "    ax[0, i].set_xlim(0.1, 0.4)\n",
    "    ax[1, i].set_xlabel(r'$f$')\n",
    "    ax[0, i].legend(loc='upper left')\n",
    "    ax[1, i].legend(loc='upper left')\n",
    "    ax[1, i].axhline(1, color='tab:red', zorder=1)\n",
    "\n",
    "ax[0, 0].set_ylabel(r'$\\nu\\cdot\\,{\\rm Var}\\,(\\hat f)$')\n",
    "ax[1, 0].set_ylabel(r'$\\nu\\cdot\\,{\\rm Var}\\,(\\hat f)\\cdot\\mathcal{F}$')\n",
    "ax[0, 0].set_title(r'Single Params Est; a.k.a. $\\theta=f$')\n",
    "ax[0, 1].set_title(r'Multi Params Est; a.k.a. $\\theta=(A, f, \\phi)^T$')\n",
    "\n",
    "plt.tight_layout()\n",
    "plt.show()"
   ]
  },
  {
   "cell_type": "code",
   "execution_count": null,
   "metadata": {},
   "outputs": [],
   "source": [
    "@parallelize()\n",
    "def run(f, m, method):\n",
    "    meta = MetaData(m, np.round(f, 5), DMD.A(3))\n",
    "    c = Simulator(meta, 'sign', delay_params).gen()\n",
    "    # c.savez('TEMP/')\n",
    "    # c = c.est()\n",
    "    c = ExEstimates(c).mle() if method == 'mle' else ExEstimates(c).lse()\n",
    "    return c"
   ]
  },
  {
   "cell_type": "code",
   "execution_count": null,
   "metadata": {},
   "outputs": [],
   "source": [
    "cs1, cs2 = run(freq_list, 'DI', 'mle'), run(freq_list, 'SPADE', 'mle')\n",
    "cs3, cs4 = run(freq_list, 'DI', 'lse'), run(freq_list, 'SPADE', 'lse')\n"
   ]
  },
  {
   "cell_type": "code",
   "execution_count": null,
   "metadata": {},
   "outputs": [],
   "source": [
    "fig, ax = plt.subplots(1, 2, figsize=(2 * 8.5 / 2.54, 0.618 * 8.5 / 2.54), sharey='row', sharex=True)\n",
    "\n",
    "for m in ('SPADE', 'DI'):\n",
    "    f_var = []\n",
    "    cs = cs1 if m == 'DI' else cs2\n",
    "    for i, f in enumerate(freq_list):\n",
    "        f_var.append(cs[i].extra_estimates_f.var(ddof=1) * cs[i].photons)\n",
    "\n",
    "    ax[0].plot(freq_list, np.array(f_var), 'o' if m == 'SPADE' else '^', label=m)\n",
    "\n",
    "\n",
    "for m in ('SPADE', 'DI'):\n",
    "    f_var = []\n",
    "    cs = cs3 if m == 'DI' else cs4\n",
    "    for i, f in enumerate(freq_list):\n",
    "        f_var.append(cs[i].extra_estimates_f.var(ddof=1) * cs[i].photons)\n",
    "\n",
    "    ax[1].plot(freq_list, np.array(f_var), 'o' if m == 'SPADE' else '^', label=m)\n",
    "\n",
    "crb = ApproxCRB((4/pi) * DMD.A(3))[1, 1]\n",
    "for i in (0, 1):\n",
    "    ax[i].set_xlim(0.1, 0.4)\n",
    "    ax[i].set_xlabel(r'$f$')\n",
    "\n",
    "    ax[i].axhline(crb, color='tab:red', zorder=1, label='QCRB')\n",
    "\n",
    "    ax[i].legend(loc='upper left')\n",
    "    ax[i].legend(loc='upper left')\n",
    "\n",
    "ax[0].set_ylabel(r'$\\nu\\cdot\\,{\\rm Var}\\,(\\hat f)$')\n",
    "ax[0].set_title(r'MLE')\n",
    "ax[1].set_title(r'LSE')\n",
    "\n",
    "plt.tight_layout()\n",
    "plt.show()"
   ]
  },
  {
   "cell_type": "code",
   "execution_count": null,
   "metadata": {},
   "outputs": [],
   "source": []
  }
 ],
 "metadata": {
  "kernelspec": {
   "display_name": "base",
   "language": "python",
   "name": "python3"
  },
  "language_info": {
   "codemirror_mode": {
    "name": "ipython",
    "version": 3
   },
   "file_extension": ".py",
   "mimetype": "text/x-python",
   "name": "python",
   "nbconvert_exporter": "python",
   "pygments_lexer": "ipython3",
   "version": "3.11.10"
  }
 },
 "nbformat": 4,
 "nbformat_minor": 2
}
